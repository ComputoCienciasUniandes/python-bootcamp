{
 "cells": [
  {
   "cell_type": "markdown",
   "metadata": {},
   "source": [
    "# More Python"
   ]
  },
  {
   "cell_type": "markdown",
   "metadata": {},
   "source": [
    "## Diccionarios"
   ]
  },
  {
   "cell_type": "code",
   "execution_count": 4,
   "metadata": {
    "collapsed": false
   },
   "outputs": [
    {
     "name": "stdout",
     "output_type": "stream",
     "text": [
      "{'radio': 695500000.0, 'masa': 1.9891e+30}\n",
      "('radio', 695500000.0)\n",
      "('masa', 1.9891e+30)\n",
      "1.9891e+30\n"
     ]
    }
   ],
   "source": [
    "# Build a dictionary\n",
    "sol={}\n",
    "sol[\"masa\"]=1.9891E30\n",
    "sol[\"radio\"]=6.955E8\n",
    "print sol\n",
    "for key in sol.keys():\n",
    "    print(key,sol[key])\n",
    "print(sol[\"masa\"])"
   ]
  },
  {
   "cell_type": "markdown",
   "metadata": {},
   "source": [
    "## List Comprehension"
   ]
  },
  {
   "cell_type": "code",
   "execution_count": 8,
   "metadata": {
    "collapsed": false
   },
   "outputs": [
    {
     "name": "stdout",
     "output_type": "stream",
     "text": [
      "¿Cuál es su número mágico? 34\n",
      "Los múltiplos de 34 menores o iguales a 1000 son\n",
      "[34, 68, 102, 136, 170, 204, 238, 272, 306, 340, 374, 408, 442, 476, 510, 544, 578, 612, 646, 680, 714, 748, 782, 816, 850, 884, 918, 952, 986]\n",
      ", y su suma es 14790.\n"
     ]
    }
   ],
   "source": [
    "theMagicNum = int(raw_input(\"¿Cuál es su número mágico? \"))\n",
    "theMagicNums = [i * theMagicNum for i in range(1,1000/theMagicNum + 1)]\n",
    "print \"Los múltiplos de \" + str(theMagicNum) + \" menores o iguales a 1000 son\"\n",
    "print theMagicNums\n",
    "print \", y su suma es \" + str(sum(theMagicNums)) + \".\""
   ]
  },
  {
   "cell_type": "markdown",
   "metadata": {},
   "source": [
    "## More List Manipulation"
   ]
  },
  {
   "cell_type": "code",
   "execution_count": 9,
   "metadata": {
    "collapsed": false
   },
   "outputs": [
    {
     "name": "stdout",
     "output_type": "stream",
     "text": [
      "[0, 1, 2, 3, 4, 5, 6, 7, 8, 9]\n",
      "[0, 1, 2, 3, 4, 5, 6, 7, 8, 9, 'naranjas']\n"
     ]
    }
   ],
   "source": [
    "# Append to a list\n",
    "lista=range(10)\n",
    "print lista\n",
    "lista.append(\"naranjas\")\n",
    "print lista"
   ]
  },
  {
   "cell_type": "code",
   "execution_count": 10,
   "metadata": {
    "collapsed": false
   },
   "outputs": [
    {
     "name": "stdout",
     "output_type": "stream",
     "text": [
      "['manzanas', 'naranjas', 'peras', 'fresas']\n",
      "['manzanas', 'peras', 'fresas']\n"
     ]
    }
   ],
   "source": [
    "# Eliminar el elemento de una lista usando su índice\n",
    "lista=[\"manzanas\",\"naranjas\",\"peras\",\"fresas\"]\n",
    "print lista\n",
    "del lista[1]\n",
    "print lista"
   ]
  },
  {
   "cell_type": "code",
   "execution_count": 12,
   "metadata": {
    "collapsed": false
   },
   "outputs": [
    {
     "name": "stdout",
     "output_type": "stream",
     "text": [
      "['manzanas', 'naranjas', 'peras', 'fresas', 'manzanas']\n",
      "['naranjas', 'peras', 'fresas', 'manzanas']\n"
     ]
    }
   ],
   "source": [
    "# Eliminar el elemento de una lista conocido su valor, solo se elimina la primer ocurrencia\n",
    "lista=[\"manzanas\",\"naranjas\",\"peras\",\"fresas\",\"manzanas\"]\n",
    "print lista\n",
    "lista.remove(\"manzanas\")\n",
    "print lista"
   ]
  },
  {
   "cell_type": "markdown",
   "metadata": {},
   "source": [
    "## Generación de números aleatorios"
   ]
  },
  {
   "cell_type": "code",
   "execution_count": 13,
   "metadata": {
    "collapsed": false
   },
   "outputs": [
    {
     "data": {
      "text/plain": [
       "[5, 2, 5, 5, 4, 9, 1, 6, 9, 9]"
      ]
     },
     "execution_count": 13,
     "metadata": {},
     "output_type": "execute_result"
    }
   ],
   "source": [
    "from random import *\n",
    "[randint(1,10) for i in range(10)]"
   ]
  },
  {
   "cell_type": "markdown",
   "metadata": {},
   "source": [
    "## Funciones"
   ]
  },
  {
   "cell_type": "markdown",
   "metadata": {},
   "source": [
    "### Simplest example"
   ]
  },
  {
   "cell_type": "code",
   "execution_count": 14,
   "metadata": {
    "collapsed": false
   },
   "outputs": [],
   "source": [
    "def duplicator(x):\n",
    "    y = x*2\n",
    "    return y"
   ]
  },
  {
   "cell_type": "code",
   "execution_count": 15,
   "metadata": {
    "collapsed": false
   },
   "outputs": [
    {
     "data": {
      "text/plain": [
       "[0, 2, 4, 6, 8, 10, 12, 14, 16, 18]"
      ]
     },
     "execution_count": 15,
     "metadata": {},
     "output_type": "execute_result"
    }
   ],
   "source": [
    "[ duplicator(i) for i in range(10)]"
   ]
  },
  {
   "cell_type": "code",
   "execution_count": 17,
   "metadata": {
    "collapsed": false
   },
   "outputs": [],
   "source": [
    "# Si una función no regresa nada explícitamente, regresa None por defecto.\n",
    "def inutil(x):\n",
    "    if x == 1:\n",
    "        return x"
   ]
  },
  {
   "cell_type": "code",
   "execution_count": 18,
   "metadata": {
    "collapsed": false
   },
   "outputs": [
    {
     "name": "stdout",
     "output_type": "stream",
     "text": [
      "None\n"
     ]
    }
   ],
   "source": [
    "print inutil(0)"
   ]
  },
  {
   "cell_type": "markdown",
   "metadata": {},
   "source": [
    "### Precedence"
   ]
  },
  {
   "cell_type": "code",
   "execution_count": 1,
   "metadata": {
    "collapsed": false
   },
   "outputs": [
    {
     "name": "stdout",
     "output_type": "stream",
     "text": [
      "<built-in function sum>\n"
     ]
    }
   ],
   "source": [
    "print sum"
   ]
  },
  {
   "cell_type": "code",
   "execution_count": 2,
   "metadata": {
    "collapsed": false
   },
   "outputs": [
    {
     "name": "stdout",
     "output_type": "stream",
     "text": [
      "1\n"
     ]
    }
   ],
   "source": [
    "sum = 1\n",
    "print sum\n",
    "# Python found a global variable with name sum, and rested there."
   ]
  },
  {
   "cell_type": "code",
   "execution_count": 3,
   "metadata": {
    "collapsed": false
   },
   "outputs": [
    {
     "name": "stdout",
     "output_type": "stream",
     "text": [
      "1002\n",
      "1\n"
     ]
    }
   ],
   "source": [
    "sum = 1\n",
    "# This function creates a local variable sum and uses it in its execution.\n",
    "def funny(x):\n",
    "    sum = x + 1000\n",
    "    return sum\n",
    "print funny(2)\n",
    "# The value of the global variable is not affected by the execution of the function.\n",
    "print sum"
   ]
  },
  {
   "cell_type": "code",
   "execution_count": 4,
   "metadata": {
    "collapsed": false
   },
   "outputs": [
    {
     "name": "stdout",
     "output_type": "stream",
     "text": [
      "1002\n",
      "1002\n"
     ]
    }
   ],
   "source": [
    "sum = 1\n",
    "# This function takes sum to be a global variable.\n",
    "def funny(x):\n",
    "    global sum\n",
    "    sum = x + 1000\n",
    "    return sum\n",
    "print funny(2)\n",
    "# The value of the global variable is affected by the execution of the function.\n",
    "print sum"
   ]
  },
  {
   "cell_type": "code",
   "execution_count": 5,
   "metadata": {
    "collapsed": false
   },
   "outputs": [
    {
     "name": "stdout",
     "output_type": "stream",
     "text": [
      "funny\t sum\t \n"
     ]
    }
   ],
   "source": [
    "# Imprimir objetos definidos\n",
    "%who"
   ]
  },
  {
   "cell_type": "code",
   "execution_count": 6,
   "metadata": {
    "collapsed": false
   },
   "outputs": [],
   "source": [
    "# Eliminar un objeto\n",
    "del sum"
   ]
  },
  {
   "cell_type": "code",
   "execution_count": 7,
   "metadata": {
    "collapsed": false
   },
   "outputs": [
    {
     "name": "stdout",
     "output_type": "stream",
     "text": [
      "<built-in function sum>\n"
     ]
    }
   ],
   "source": [
    "print sum"
   ]
  },
  {
   "cell_type": "code",
   "execution_count": 8,
   "metadata": {
    "collapsed": false
   },
   "outputs": [
    {
     "name": "stdout",
     "output_type": "stream",
     "text": [
      "funny\t \n"
     ]
    }
   ],
   "source": [
    "%who"
   ]
  },
  {
   "cell_type": "markdown",
   "metadata": {},
   "source": [
    "### A more complicated example"
   ]
  },
  {
   "cell_type": "code",
   "execution_count": 9,
   "metadata": {
    "collapsed": false
   },
   "outputs": [
    {
     "name": "stdout",
     "output_type": "stream",
     "text": [
      "None\n",
      "2\n"
     ]
    }
   ],
   "source": [
    "y = 0\n",
    "def nada(x):\n",
    "    global y\n",
    "    y = x + 1\n",
    "print nada(1)\n",
    "print y"
   ]
  },
  {
   "cell_type": "markdown",
   "metadata": {},
   "source": [
    "### A function with variable number of arguments"
   ]
  },
  {
   "cell_type": "code",
   "execution_count": 11,
   "metadata": {
    "collapsed": false
   },
   "outputs": [
    {
     "name": "stdout",
     "output_type": "stream",
     "text": [
      "12\n",
      "12\n"
     ]
    }
   ],
   "source": [
    "def thetotal(*items):\n",
    "    tot=0\n",
    "    for i in items:\n",
    "        tot+=i\n",
    "    return tot\n",
    "print thetotal(1,2,10,-1)\n",
    "print thetotal(*[1,2,10,-1])"
   ]
  },
  {
   "cell_type": "markdown",
   "metadata": {},
   "source": [
    "### Recursive functions"
   ]
  },
  {
   "cell_type": "code",
   "execution_count": 12,
   "metadata": {
    "collapsed": false
   },
   "outputs": [],
   "source": [
    "# A function is recursive if it call itself. Recursion works\n",
    "# in Python and other languagues because of the run-time\n",
    "# stack"
   ]
  },
  {
   "cell_type": "code",
   "execution_count": 13,
   "metadata": {
    "collapsed": false
   },
   "outputs": [
    {
     "data": {
      "text/plain": [
       "55"
      ]
     },
     "execution_count": 13,
     "metadata": {},
     "output_type": "execute_result"
    }
   ],
   "source": [
    "def fibonnaci(n):\n",
    "    if n == 1 or n == 2:\n",
    "        return 1\n",
    "    return fibonnaci(n-1) + fibonnaci(n-2)\n",
    "fibonnaci(10)"
   ]
  },
  {
   "cell_type": "code",
   "execution_count": 14,
   "metadata": {
    "collapsed": false
   },
   "outputs": [
    {
     "name": "stdout",
     "output_type": "stream",
     "text": [
      "6\n"
     ]
    }
   ],
   "source": [
    "def factorial(n):\n",
    "    if n == 0:\n",
    "        return 1\n",
    "    return n * factorial(n-1)\n",
    "print(factorial(3))"
   ]
  },
  {
   "cell_type": "code",
   "execution_count": 22,
   "metadata": {
    "collapsed": false
   },
   "outputs": [
    {
     "name": "stdout",
     "output_type": "stream",
     "text": [
      "oreroF emiaj\n"
     ]
    }
   ],
   "source": [
    "def reverse(s):\n",
    "    # Base case: Always FIRST\n",
    "    if s == \"\":\n",
    "        return \"\"\n",
    "    #Recursive case\n",
    "    return reverse(s[1:]) + s[0]\n",
    "print reverse(\"jaime Forero\")"
   ]
  }
 ],
 "metadata": {
  "kernelspec": {
   "display_name": "Python 2",
   "language": "python",
   "name": "python2"
  },
  "language_info": {
   "codemirror_mode": {
    "name": "ipython",
    "version": 2
   },
   "file_extension": ".py",
   "mimetype": "text/x-python",
   "name": "python",
   "nbconvert_exporter": "python",
   "pygments_lexer": "ipython2",
   "version": "2.7.6"
  }
 },
 "nbformat": 4,
 "nbformat_minor": 0
}
